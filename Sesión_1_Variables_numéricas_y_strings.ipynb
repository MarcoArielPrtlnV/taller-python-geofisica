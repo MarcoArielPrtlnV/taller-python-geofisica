{
  "nbformat": 4,
  "nbformat_minor": 0,
  "metadata": {
    "colab": {
      "provenance": [],
      "include_colab_link": true
    },
    "kernelspec": {
      "name": "python3",
      "display_name": "Python 3"
    },
    "language_info": {
      "name": "python"
    }
  },
  "cells": [
    {
      "cell_type": "markdown",
      "metadata": {
        "id": "view-in-github",
        "colab_type": "text"
      },
      "source": [
        "<a href=\"https://colab.research.google.com/github/MarcoArielPrtlnV/taller-python-geofisica/blob/main/Sesi%C3%B3n_1_Variables_num%C3%A9ricas_y_strings.ipynb\" target=\"_parent\"><img src=\"https://colab.research.google.com/assets/colab-badge.svg\" alt=\"Open In Colab\"/></a>"
      ]
    },
    {
      "cell_type": "markdown",
      "source": [
        "#**Taller de Programación en Python Orientado a la Geofísica**\n",
        "\n",
        "##*Tema 1: Introducción a Google Colab*\n",
        "\n",
        "> Antes de iniciar te pido por favor que hagas una copia del presente colab para que puedas practicar por tu cuenta y resolver todos los ejercicios que aparezcan a lo largo del contenido. Recuerda que esta función la puedes hacer dando clic en \"Archivo\" y después en \"Guardar una copia en Drive\". Todos los ejercicios aparecerán con el título **Ponte a prueba**."
      ],
      "metadata": {
        "id": "sKnwuFHB6j7W"
      }
    },
    {
      "cell_type": "markdown",
      "source": [
        "Aquí yo puedo escribir lo que yo quiera\n",
        "#Título 1\n",
        "##Subtitulo 1\n",
        "###Subtitulo 2\n",
        "\n"
      ],
      "metadata": {
        "id": "s8QamJ7D8MOy"
      }
    },
    {
      "cell_type": "code",
      "source": [
        "x = 'Hola'\n",
        "\n",
        "#La función type() nos regresa el tipo de dato que contiene una variable\n",
        "type(x)"
      ],
      "metadata": {
        "colab": {
          "base_uri": "https://localhost:8080/"
        },
        "id": "7JqWCTXm86Zr",
        "outputId": "26e6e3a6-9a89-4bb1-bdbe-333a1dd01e3c"
      },
      "execution_count": null,
      "outputs": [
        {
          "output_type": "execute_result",
          "data": {
            "text/plain": [
              "str"
            ]
          },
          "metadata": {},
          "execution_count": 3
        }
      ]
    },
    {
      "cell_type": "code",
      "source": [
        "#Reasignación de variables, es decir, cambiar el tipo de dato de una variable\n",
        "x = 2\n",
        "type(x)"
      ],
      "metadata": {
        "colab": {
          "base_uri": "https://localhost:8080/"
        },
        "id": "WPHtKdJG-7Zj",
        "outputId": "16ccc6c2-915f-40a7-db4c-cfaeea849610"
      },
      "execution_count": null,
      "outputs": [
        {
          "output_type": "execute_result",
          "data": {
            "text/plain": [
              "int"
            ]
          },
          "metadata": {},
          "execution_count": 4
        }
      ]
    },
    {
      "cell_type": "code",
      "source": [
        "#Cambiar de entero a complejo\n",
        "#Para representar la parte imaginaria se utiliza la letra j\n",
        "x = 2 + 1j\n",
        "type(x)"
      ],
      "metadata": {
        "colab": {
          "base_uri": "https://localhost:8080/"
        },
        "id": "WJQbilsx_O-s",
        "outputId": "ae6d683c-3aef-4d31-8b61-aebc10e4152e"
      },
      "execution_count": null,
      "outputs": [
        {
          "output_type": "execute_result",
          "data": {
            "text/plain": [
              "complex"
            ]
          },
          "metadata": {},
          "execution_count": 5
        }
      ]
    },
    {
      "cell_type": "markdown",
      "source": [
        "#Operaciones con variables numéricas\n",
        "\n",
        "##1. Suma"
      ],
      "metadata": {
        "id": "LMyGGChfABN3"
      }
    },
    {
      "cell_type": "code",
      "source": [
        "#Primero vamos a definir dos variables numéricas\n",
        "num1 = 3 #Entero\n",
        "num2 = 5 - 4j #Complejo\n",
        "num3 = 6.27 #Real"
      ],
      "metadata": {
        "id": "14ZWnFqX_rG1"
      },
      "execution_count": null,
      "outputs": []
    },
    {
      "cell_type": "code",
      "source": [
        "#Python solo va a mostrar la última línea de código\n",
        "num1 + num2\n",
        "num2 + num3\n",
        "num1 + num3 #Esta es la única que muestra"
      ],
      "metadata": {
        "colab": {
          "base_uri": "https://localhost:8080/"
        },
        "id": "grb3YPMnAhnm",
        "outputId": "02424cfa-4268-4668-d61c-d47881b7e9e4"
      },
      "execution_count": null,
      "outputs": [
        {
          "output_type": "execute_result",
          "data": {
            "text/plain": [
              "9.27"
            ]
          },
          "metadata": {},
          "execution_count": 7
        }
      ]
    },
    {
      "cell_type": "code",
      "source": [
        "#Si quisiera visualziar todas las lineas de operación debo meterlas dentro de un print\n",
        "print(num1 + num2)\n",
        "print(num2 + num3)\n",
        "print(num1 + num3)"
      ],
      "metadata": {
        "colab": {
          "base_uri": "https://localhost:8080/"
        },
        "id": "y6M7ITL7A20J",
        "outputId": "163ab917-7f69-4774-ef0e-f030c18a7f6f"
      },
      "execution_count": null,
      "outputs": [
        {
          "output_type": "stream",
          "name": "stdout",
          "text": [
            "(8-4j)\n",
            "(11.27-4j)\n",
            "9.27\n"
          ]
        }
      ]
    },
    {
      "cell_type": "markdown",
      "source": [
        "##2. Resta"
      ],
      "metadata": {
        "id": "Na9_XgYgBpRv"
      }
    },
    {
      "cell_type": "code",
      "source": [
        "print(num1 - num2)\n",
        "print(num2 - num3)\n",
        "print(num1 - num3)"
      ],
      "metadata": {
        "colab": {
          "base_uri": "https://localhost:8080/"
        },
        "id": "k7ly_eRTBogv",
        "outputId": "60f6cb5c-3729-4215-df0c-d4924d2154c3"
      },
      "execution_count": null,
      "outputs": [
        {
          "output_type": "stream",
          "name": "stdout",
          "text": [
            "(-2+4j)\n",
            "(-1.2699999999999996-4j)\n",
            "-3.2699999999999996\n"
          ]
        }
      ]
    },
    {
      "cell_type": "markdown",
      "source": [
        "##Multiplicación"
      ],
      "metadata": {
        "id": "DXfCRyu4Ch6P"
      }
    },
    {
      "cell_type": "code",
      "source": [
        "#Multiplicación de binomios conjungados\n",
        "num1 = 2 + 1j\n",
        "num2 = 2 - 1j\n",
        "\n",
        "#El resultado debe ser la diferencia de cuadrados\n",
        "num1 * num2"
      ],
      "metadata": {
        "colab": {
          "base_uri": "https://localhost:8080/"
        },
        "id": "EUKh9fqsCk5H",
        "outputId": "88114bb2-2122-457c-cfaf-7b0ff4b3f769"
      },
      "execution_count": null,
      "outputs": [
        {
          "output_type": "execute_result",
          "data": {
            "text/plain": [
              "(5+0j)"
            ]
          },
          "metadata": {},
          "execution_count": 11
        }
      ]
    },
    {
      "cell_type": "markdown",
      "source": [
        "#División\n",
        "\n",
        "No se puede dividir entre 0"
      ],
      "metadata": {
        "id": "KzVkK3-7CR4F"
      }
    },
    {
      "cell_type": "code",
      "source": [
        "23.9/0"
      ],
      "metadata": {
        "colab": {
          "base_uri": "https://localhost:8080/",
          "height": 165
        },
        "id": "9vY1h3TDCZxv",
        "outputId": "4f2046f5-fa72-4b80-b54b-b4b73e429f83"
      },
      "execution_count": null,
      "outputs": [
        {
          "output_type": "error",
          "ename": "ZeroDivisionError",
          "evalue": "ignored",
          "traceback": [
            "\u001b[0;31m---------------------------------------------------------------------------\u001b[0m",
            "\u001b[0;31mZeroDivisionError\u001b[0m                         Traceback (most recent call last)",
            "\u001b[0;32m<ipython-input-10-7a0c8063aebf>\u001b[0m in \u001b[0;36m<module>\u001b[0;34m\u001b[0m\n\u001b[0;32m----> 1\u001b[0;31m \u001b[0;36m23.9\u001b[0m\u001b[0;34m/\u001b[0m\u001b[0;36m0\u001b[0m\u001b[0;34m\u001b[0m\u001b[0;34m\u001b[0m\u001b[0m\n\u001b[0m",
            "\u001b[0;31mZeroDivisionError\u001b[0m: float division by zero"
          ]
        }
      ]
    },
    {
      "cell_type": "markdown",
      "source": [
        "##Potencias y Raíces\n",
        "\n",
        "**Recordar:** Que una raíz es una potencia de una fracción\n",
        "\n",
        "Es decir, la raíz cuadrada es como si elevaramos un número a la 1/2"
      ],
      "metadata": {
        "id": "za2dGi45DP1D"
      }
    },
    {
      "cell_type": "code",
      "source": [
        "#Raíz cúbica\n",
        "print((8)**(1/3))\n",
        "\n",
        "#Potencia al cubo\n",
        "print(2**3)"
      ],
      "metadata": {
        "colab": {
          "base_uri": "https://localhost:8080/"
        },
        "id": "o_zbYH07Dijl",
        "outputId": "678bffd3-0b46-44d7-b08b-6c444c94ebea"
      },
      "execution_count": null,
      "outputs": [
        {
          "output_type": "stream",
          "name": "stdout",
          "text": [
            "2.0\n",
            "8\n"
          ]
        }
      ]
    },
    {
      "cell_type": "markdown",
      "source": [
        "##Cociente y Residuo\n",
        "\n",
        "Cociente es el resultado entero de una división, se escribe con una doble //\n",
        "\n",
        "Residuo, es el sobrante de una división, se escribe con un %, también se le conoce como módulo"
      ],
      "metadata": {
        "id": "Ij_WuH9wD990"
      }
    },
    {
      "cell_type": "code",
      "source": [
        "divisor = 8\n",
        "dividendo = 34\n",
        "\n",
        "cociente = 34//8\n",
        "residuo = 34%8\n",
        "\n",
        "print(cociente)\n",
        "print(residuo)"
      ],
      "metadata": {
        "colab": {
          "base_uri": "https://localhost:8080/"
        },
        "id": "UC09SxfrEU-s",
        "outputId": "da6263b5-4b54-4f95-93be-4a0f1ac9e810"
      },
      "execution_count": null,
      "outputs": [
        {
          "output_type": "stream",
          "name": "stdout",
          "text": [
            "4\n",
            "2\n"
          ]
        }
      ]
    },
    {
      "cell_type": "markdown",
      "source": [
        "#Cadenas (Strings)\n",
        "\n",
        "Líneas de texto, tienen que ir entre comillas, ya sean comillas dobles o comillas simples"
      ],
      "metadata": {
        "id": "mJI1Lfn-FGDx"
      }
    },
    {
      "cell_type": "code",
      "source": [
        "cadena1 = \"Hola\"\n",
        "cadena2 = 'Mundo'\n",
        "\n",
        "print(cadena1)\n",
        "print(cadena2)"
      ],
      "metadata": {
        "colab": {
          "base_uri": "https://localhost:8080/"
        },
        "id": "hUe8yZaxFQ-M",
        "outputId": "72d43b86-5c56-44c0-fc5e-afd941deab13"
      },
      "execution_count": null,
      "outputs": [
        {
          "output_type": "stream",
          "name": "stdout",
          "text": [
            "Hola\n",
            "Mundo\n"
          ]
        }
      ]
    },
    {
      "cell_type": "code",
      "source": [
        "#Salto de línea\n",
        "print(\"Hola \\nMundo\")"
      ],
      "metadata": {
        "colab": {
          "base_uri": "https://localhost:8080/"
        },
        "id": "I_0Pa6z2FnNo",
        "outputId": "f286edfe-3b4b-4500-ff01-f4d94f858535"
      },
      "execution_count": null,
      "outputs": [
        {
          "output_type": "stream",
          "name": "stdout",
          "text": [
            "Hola \n",
            "Mundo\n"
          ]
        }
      ]
    },
    {
      "cell_type": "code",
      "source": [
        "#Tabulación\n",
        "print('Hola\\tMundo')"
      ],
      "metadata": {
        "colab": {
          "base_uri": "https://localhost:8080/"
        },
        "id": "tDIN62PVFxxl",
        "outputId": "5c504c6f-6d02-4576-9e55-3aef70915caf"
      },
      "execution_count": null,
      "outputs": [
        {
          "output_type": "stream",
          "name": "stdout",
          "text": [
            "Hola\tMundo\n"
          ]
        }
      ]
    },
    {
      "cell_type": "code",
      "source": [
        "#Comillas dentro de un string\n",
        "print(\"Hola, mi nombre es \\\"Kevin\\\"\")\n",
        "print('Hola, mi nombre es \\'Kevin\\'')"
      ],
      "metadata": {
        "colab": {
          "base_uri": "https://localhost:8080/"
        },
        "id": "u1EJbuh1GJZO",
        "outputId": "c0ba4665-7cfe-4b35-eb63-420d2b4dcb97"
      },
      "execution_count": null,
      "outputs": [
        {
          "output_type": "stream",
          "name": "stdout",
          "text": [
            "Hola, mi nombre es \"Kevin\"\n",
            "Hola, mi nombre es 'Kevin'\n"
          ]
        }
      ]
    },
    {
      "cell_type": "code",
      "source": [
        "#Caracteres especiales, info: https://unicode-table.com/es/sets/greek-symbols/\n",
        "print(\"Ω\")"
      ],
      "metadata": {
        "colab": {
          "base_uri": "https://localhost:8080/"
        },
        "id": "ealXpjuGGjW5",
        "outputId": "831ddc8f-91c5-4c11-b1f9-101afa4ca9a5"
      },
      "execution_count": null,
      "outputs": [
        {
          "output_type": "stream",
          "name": "stdout",
          "text": [
            "Ω\n"
          ]
        }
      ]
    },
    {
      "cell_type": "markdown",
      "source": [
        "#Comillas Triples\n",
        "\n",
        "Nos van a permitir imprimir un texto tal como nosotros queramos, sin necesidad de utilizar la barra invertida"
      ],
      "metadata": {
        "id": "6ULWfR_VHMGK"
      }
    },
    {
      "cell_type": "code",
      "source": [
        "#Se puede utilizar con comillas dobles\n",
        "print(\"\"\"\n",
        "Hola    mi nombre \n",
        "es  \"Kevin\"\n",
        "ε\n",
        "\n",
        "\"\"\")"
      ],
      "metadata": {
        "colab": {
          "base_uri": "https://localhost:8080/"
        },
        "id": "0MHVnfciHWby",
        "outputId": "3fba0b56-dbf4-4583-b562-6c63a419009d"
      },
      "execution_count": null,
      "outputs": [
        {
          "output_type": "stream",
          "name": "stdout",
          "text": [
            "\n",
            "Hola    mi nombre \n",
            "es  \"Kevin\"\n",
            "ε\n",
            "\n",
            "\n"
          ]
        }
      ]
    },
    {
      "cell_type": "code",
      "source": [
        "#Se puede utilizar con comillas simples\n",
        "print('''\n",
        "Hola    mi nombre \n",
        "es  \"Kevin\"\n",
        "ε\n",
        "\n",
        "''')"
      ],
      "metadata": {
        "colab": {
          "base_uri": "https://localhost:8080/"
        },
        "id": "TSv7Tk9nHvfA",
        "outputId": "84b8b01f-dd93-4e4c-8d9b-4906ccd97963"
      },
      "execution_count": null,
      "outputs": [
        {
          "output_type": "stream",
          "name": "stdout",
          "text": [
            "\n",
            "Hola    mi nombre \n",
            "es  \"Kevin\"\n",
            "ε\n",
            "\n",
            "\n"
          ]
        }
      ]
    },
    {
      "cell_type": "markdown",
      "source": [
        "#Concatenación de cadenas\n",
        "\n",
        "Se va a hacer con el signo +\n",
        "\n",
        "Ambas variables **DEBEN** ser de tipo texto"
      ],
      "metadata": {
        "id": "meSpmslaH_FK"
      }
    },
    {
      "cell_type": "code",
      "source": [
        "#Ambas variables sean strings, de lo contrario marcará un error\n",
        "cadena1 = \"HOLA\"\n",
        "cadena2 = 3\n",
        "\n",
        "cadena1 + cadena2"
      ],
      "metadata": {
        "colab": {
          "base_uri": "https://localhost:8080/",
          "height": 200
        },
        "id": "0Xt0zAeIIIi9",
        "outputId": "0137bd35-a821-43a4-f189-50b5bfab55d0"
      },
      "execution_count": null,
      "outputs": [
        {
          "output_type": "error",
          "ename": "TypeError",
          "evalue": "ignored",
          "traceback": [
            "\u001b[0;31m---------------------------------------------------------------------------\u001b[0m",
            "\u001b[0;31mTypeError\u001b[0m                                 Traceback (most recent call last)",
            "\u001b[0;32m<ipython-input-28-023b32d39f6d>\u001b[0m in \u001b[0;36m<module>\u001b[0;34m\u001b[0m\n\u001b[1;32m      2\u001b[0m \u001b[0mcadena2\u001b[0m \u001b[0;34m=\u001b[0m \u001b[0;36m3\u001b[0m\u001b[0;34m\u001b[0m\u001b[0;34m\u001b[0m\u001b[0m\n\u001b[1;32m      3\u001b[0m \u001b[0;34m\u001b[0m\u001b[0m\n\u001b[0;32m----> 4\u001b[0;31m \u001b[0mcadena1\u001b[0m \u001b[0;34m+\u001b[0m \u001b[0mcadena2\u001b[0m\u001b[0;34m\u001b[0m\u001b[0;34m\u001b[0m\u001b[0m\n\u001b[0m",
            "\u001b[0;31mTypeError\u001b[0m: can only concatenate str (not \"int\") to str"
          ]
        }
      ]
    },
    {
      "cell_type": "code",
      "source": [
        "#Ambas variables son strings\n",
        "cadena1 = \"HOLA\"\n",
        "cadena2 = \"3\"\n",
        "\n",
        "cadena1 + cadena2"
      ],
      "metadata": {
        "colab": {
          "base_uri": "https://localhost:8080/",
          "height": 36
        },
        "id": "KUzhIGByIc1a",
        "outputId": "bbe0e528-1808-40b8-8d5c-9728fcb921ec"
      },
      "execution_count": null,
      "outputs": [
        {
          "output_type": "execute_result",
          "data": {
            "text/plain": [
              "'HOLA3'"
            ],
            "application/vnd.google.colaboratory.intrinsic+json": {
              "type": "string"
            }
          },
          "metadata": {},
          "execution_count": 29
        }
      ]
    },
    {
      "cell_type": "markdown",
      "source": [
        "#f-Strings\n",
        "\n",
        "Muy utilizados nos permiten dar el formato que nosotros queramos y concatenar strings con variables numéricas.\n",
        "\n",
        "Se manda llamar con *print(f\"{variable}\")*"
      ],
      "metadata": {
        "id": "iJbOHJeSIurS"
      }
    },
    {
      "cell_type": "code",
      "source": [
        "#Supangamos que tenemos dos variables\n",
        "cadena = \"Eres el turno\"\n",
        "numero = 12\n",
        "\n",
        "#Imprimimos\n",
        "print(f\"Hola, {cadena} {numero} en la lista de espera\")"
      ],
      "metadata": {
        "colab": {
          "base_uri": "https://localhost:8080/"
        },
        "id": "bqXOU4cwI63m",
        "outputId": "e1bd1b9a-a13e-4851-de61-d07d028d2b33"
      },
      "execution_count": null,
      "outputs": [
        {
          "output_type": "stream",
          "name": "stdout",
          "text": [
            "Hola, Eres el turno 12 en la lista de espera\n"
          ]
        }
      ]
    }
  ]
}